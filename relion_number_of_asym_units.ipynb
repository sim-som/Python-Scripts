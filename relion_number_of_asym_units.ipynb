{
 "cells": [
  {
   "cell_type": "markdown",
   "metadata": {},
   "source": [
    "## Orientation on what to chose for *number of asymmetrical units parameter* in Relion\n",
    "\n",
    "### *Number of asym units* $N_a$ and inter-box distance $d$:\n",
    "$$\n",
    "    d[px] = \\frac{r[A] \\cdot N_a}{\\Delta x[A/px]} \\quad \\Leftrightarrow \\quad N_a = \\frac{d[px] \\cdot \\Delta x[A/px]}{r[A]}\n",
    "$$\n",
    "with *helical rise* $r$ and $pixel size$ $\\Delta x$\n",
    "\n",
    "In general inter-box distance $d \\approx 10 \\% $ box size $L_b$\n",
    "$$\n",
    "    L_b = 0.1 \\cdot d\n",
    "$$"
   ]
  },
  {
   "cell_type": "code",
   "execution_count": 4,
   "metadata": {},
   "outputs": [],
   "source": [
    "# input parameters\n",
    "rise = 1.41\n",
    "L_b = 168\n",
    "angpix = 2.47"
   ]
  },
  {
   "cell_type": "code",
   "execution_count": 5,
   "metadata": {},
   "outputs": [],
   "source": [
    "def inter_box_distance(box_size):\n",
    "    return 0.1 * box_size\n",
    "\n",
    "def number_of_asym_units(inter_box_distance):\n",
    "    return inter_box_distance * angpix / rise"
   ]
  },
  {
   "cell_type": "code",
   "execution_count": 7,
   "metadata": {},
   "outputs": [
    {
     "name": "stdout",
     "output_type": "stream",
     "text": [
      "Inter box distance 16.8 (px)\n",
      "number of asym. units: 29.429787234042557\n"
     ]
    }
   ],
   "source": [
    "d = inter_box_distance(L_b)\n",
    "print(\"Inter box distance\", d, \"(px)\")\n",
    "print(\"number of asym. units:\", number_of_asym_units(d))"
   ]
  },
  {
   "cell_type": "code",
   "execution_count": null,
   "metadata": {},
   "outputs": [],
   "source": []
  }
 ],
 "metadata": {
  "interpreter": {
   "hash": "0b7326cf90c354342a20a8bac38c5016d75bfd49fd5365489b40ef3c75153f6a"
  },
  "kernelspec": {
   "display_name": "Python 3.9.7 ('base')",
   "language": "python",
   "name": "python3"
  },
  "language_info": {
   "codemirror_mode": {
    "name": "ipython",
    "version": 3
   },
   "file_extension": ".py",
   "mimetype": "text/x-python",
   "name": "python",
   "nbconvert_exporter": "python",
   "pygments_lexer": "ipython3",
   "version": "3.9.7"
  },
  "orig_nbformat": 4
 },
 "nbformat": 4,
 "nbformat_minor": 2
}
