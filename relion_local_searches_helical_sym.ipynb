{
 "cells": [
  {
   "cell_type": "code",
   "execution_count": 2,
   "metadata": {},
   "outputs": [],
   "source": [
    "import numpy as np"
   ]
  },
  {
   "cell_type": "code",
   "execution_count": 3,
   "metadata": {},
   "outputs": [],
   "source": [
    "#starting values for twist an rise\n",
    "twist0 = 22.03  #deg\n",
    "rise0 = 1.41    #Ang"
   ]
  },
  {
   "cell_type": "code",
   "execution_count": 6,
   "metadata": {},
   "outputs": [
    {
     "name": "stdout",
     "output_type": "stream",
     "text": [
      "Search ranges:\n",
      "twist: [20.9285, 23.131500000000003] \n",
      "rise: [1.3395, 1.4805] \n"
     ]
    }
   ],
   "source": [
    "# Symmetric search ranges:\n",
    "p = 0.05\n",
    "twist_min, twist_max = twist0 + p * np.array([-twist0, twist0])\n",
    "rise_min, rise_max = rise0 + p * np.array([-rise0, rise0])\n",
    "\n",
    "print(\"Search ranges:\")\n",
    "print(f\"twist: [{twist_min}, {twist_max}] \")\n",
    "print(f\"rise: [{rise_min}, {rise_max}] \")"
   ]
  },
  {
   "cell_type": "code",
   "execution_count": 9,
   "metadata": {},
   "outputs": [
    {
     "name": "stdout",
     "output_type": "stream",
     "text": [
      "Step sizes (for 50 steps specified) \n",
      "twist: 0.04406000000000006 \n",
      "rise: 0.0028200000000000005 \n"
     ]
    }
   ],
   "source": [
    "# step size:\n",
    "N = 50\n",
    "delta_twist = (twist_max - twist_min) / N\n",
    "delta_rise = (rise_max - rise_min) / N\n",
    "print(f\"Step sizes (for {N} steps specified) \")\n",
    "print(f\"twist: {delta_twist} \")\n",
    "print(f\"rise: {delta_rise} \")"
   ]
  },
  {
   "cell_type": "code",
   "execution_count": null,
   "metadata": {},
   "outputs": [],
   "source": []
  }
 ],
 "metadata": {
  "interpreter": {
   "hash": "0b7326cf90c354342a20a8bac38c5016d75bfd49fd5365489b40ef3c75153f6a"
  },
  "kernelspec": {
   "display_name": "Python 3.9.7 ('base')",
   "language": "python",
   "name": "python3"
  },
  "language_info": {
   "codemirror_mode": {
    "name": "ipython",
    "version": 3
   },
   "file_extension": ".py",
   "mimetype": "text/x-python",
   "name": "python",
   "nbconvert_exporter": "python",
   "pygments_lexer": "ipython3",
   "version": "3.9.7"
  },
  "orig_nbformat": 4
 },
 "nbformat": 4,
 "nbformat_minor": 2
}
